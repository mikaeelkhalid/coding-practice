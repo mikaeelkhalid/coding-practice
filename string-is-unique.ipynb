{
  "nbformat": 4,
  "nbformat_minor": 0,
  "metadata": {
    "colab": {
      "name": "string-is-unique.ipynb",
      "provenance": [],
      "collapsed_sections": [],
      "authorship_tag": "ABX9TyNovkjIJ5TmxYSmelDJyG0K",
      "include_colab_link": true
    },
    "kernelspec": {
      "name": "python3",
      "display_name": "Python 3"
    },
    "language_info": {
      "name": "python"
    }
  },
  "cells": [
    {
      "cell_type": "markdown",
      "metadata": {
        "id": "view-in-github",
        "colab_type": "text"
      },
      "source": [
        "<a href=\"https://colab.research.google.com/github/mikaeelkhalid/coding-practice/blob/main/string-is-unique.ipynb\" target=\"_parent\"><img src=\"https://colab.research.google.com/assets/colab-badge.svg\" alt=\"Open In Colab\"/></a>"
      ]
    },
    {
      "cell_type": "markdown",
      "metadata": {
        "id": "SzK9CpGpS64R"
      },
      "source": [
        "**Is Unique: Implement an algorithm to determine if a string has all unique characters. What if you cannot use additional data structures?**"
      ]
    },
    {
      "cell_type": "code",
      "metadata": {
        "colab": {
          "base_uri": "https://localhost:8080/"
        },
        "id": "RT0I9-vaS_R-",
        "outputId": "46e85db2-b34b-43ea-db18-6ab380b85a6f"
      },
      "source": [
        "def is_unique_chars_algorithmic(string):\n",
        "  # assuming character set is ASCII (128 characters)\n",
        "  if len(string) > 128:\n",
        "    return false\n",
        " \n",
        "  # faster way to initialize an array with a fixed value.\n",
        "  # won't work for a doubly nested array\n",
        "  char_set = [False] * 128\n",
        "\n",
        "  for char in string:\n",
        "    val = ord(char)\n",
        "    if char_set[val]:\n",
        "       # char already found in string\n",
        "      return False\n",
        "    char_set[val] = True\n",
        "  return True\n",
        "\n",
        "\n",
        "is_unique_chars_algorithmic(\"abcda\")"
      ],
      "execution_count": 9,
      "outputs": [
        {
          "output_type": "execute_result",
          "data": {
            "text/plain": [
              "False"
            ]
          },
          "metadata": {
            "tags": []
          },
          "execution_count": 9
        }
      ]
    },
    {
      "cell_type": "code",
      "metadata": {
        "colab": {
          "base_uri": "https://localhost:8080/"
        },
        "id": "lIcdcBOlWbpb",
        "outputId": "bbcdffd5-4267-47d1-f797-47b00321de1d"
      },
      "source": [
        "def is_unique_chars_pythonic(string):\n",
        "  return len(set(string)) == len(string)\n",
        "\n",
        "\n",
        "is_unique_chars_pythonic(\"abcda\")"
      ],
      "execution_count": 10,
      "outputs": [
        {
          "output_type": "execute_result",
          "data": {
            "text/plain": [
              "False"
            ]
          },
          "metadata": {
            "tags": []
          },
          "execution_count": 10
        }
      ]
    },
    {
      "cell_type": "code",
      "metadata": {
        "colab": {
          "base_uri": "https://localhost:8080/"
        },
        "id": "gPOvpwyOXIvR",
        "outputId": "cec5abbf-1f63-4ba3-a917-0883b6ea338c"
      },
      "source": [
        "def is_unique_chars_sorting(string):\n",
        "    sorted_string = sorted(string)\n",
        "    last_character = None\n",
        "    for char in sorted_string:\n",
        "        if char == last_character:\n",
        "            return False\n",
        "        last_character = char\n",
        "    return True\n",
        "\n",
        "is_unique_chars_sorting(\"abcda\")"
      ],
      "execution_count": 23,
      "outputs": [
        {
          "output_type": "execute_result",
          "data": {
            "text/plain": [
              "False"
            ]
          },
          "metadata": {
            "tags": []
          },
          "execution_count": 23
        }
      ]
    },
    {
      "cell_type": "code",
      "metadata": {
        "colab": {
          "base_uri": "https://localhost:8080/"
        },
        "id": "_xpOzFvRaK4k",
        "outputId": "65083382-2f24-481e-975e-78ed403618b9"
      },
      "source": [
        "def is_unique_chars_using_dictionary(string):\n",
        "  character_count = {}\n",
        "  for char in string:\n",
        "    if char in character_count:\n",
        "      return False\n",
        "    character_count[char] = 1\n",
        "  return True\n",
        "\n",
        "is_unique_chars_using_dictionary(\"abcda\")"
      ],
      "execution_count": 26,
      "outputs": [
        {
          "output_type": "execute_result",
          "data": {
            "text/plain": [
              "False"
            ]
          },
          "metadata": {
            "tags": []
          },
          "execution_count": 26
        }
      ]
    }
  ]
}